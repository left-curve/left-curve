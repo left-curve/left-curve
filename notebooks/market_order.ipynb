{
 "cells": [
  {
   "cell_type": "markdown",
   "id": "031eb7cc-aeea-4abd-ba22-c7914bdf502e",
   "metadata": {},
   "source": [
    "# Market order execution\n",
    "\n",
    "For this example, let's consider in the BTC-USD pair, executing a series BUY market order against the SELL side of the resting orderbook.\n",
    "\n",
    "- $(p_i, A_i)$: a SELL limit order, where $p_i$ is the price (as the units of USD that's equal in value as 1 unit of BTC); $A_i$ is the order's size (as units of BTC).\n",
    "- $\\{ (p_i, A_i) \\mid i = 1, 2, \\dots, N \\}$: the SELL side of the resting orderbook, sorted by price-time priority. Specifically, $p_1 \\leq p_2 \\leq p_3 \\leq \\dots \\leq p_N$.\n",
    "- $(B_j, s_j)$: a BUY market order, where $B_j$ is the budget (as units of USD); $s_j$ is the maximum slippage (defined below).\n",
    "- $\\{ (B_j, s_j) \\mid j = 1, 2, \\dots, M \\}$: the series of BUY market orders, sorted by priority.\n",
    "\n",
    "Maximum slippage works as follows: suppose the best ask price at the time of executing market order $(B_j, s_j)$ is $p_{\\mathrm{best}}$, the market order's _average execution price_ must not be worse than $p_{\\mathrm{max}} = (1 + s_j) p_{\\mathrm{best}}$. Note it's possible that the market order is executed against a limit order whose limit price $p_i > p_{\\mathrm{max}}$, as long as the _average_ price over all limit order consumed is no greater than $p_{\\mathrm{max}}$.\n",
    "\n",
    "Note that in the onchain smart contract, $A_i$ and $B_j$ are integers, denoted in the minimum indivisible units of BTC and USD, respectively. However, here for simplicity, we use floating point numbers for all variables.\n",
    "\n",
    "The algorithm is a function that takes the inputs:\n",
    "\n",
    "- $\\{ (p_i, A_i) \\mid i = 1, 2, \\dots, N \\}$\n",
    "- $\\{ (B_j, s_j) \\mid j = 1, 2, \\dots, M \\}$\n",
    "\n",
    "and outputs:\n",
    "\n",
    "- For each market order,\n",
    "  - the amount of USD sold;\n",
    "  - the amount of BTC bought.\n",
    "- For each limit order consumed,\n",
    "  - the amount of BTC sold;\n",
    "  - the amount of USD bought.\n",
    "\n",
    "The algorithm is as follows:"
   ]
  },
  {
   "cell_type": "code",
   "execution_count": null,
   "id": "54122b1c-638c-4831-b554-3edb9883376e",
   "metadata": {},
   "outputs": [],
   "source": []
  }
 ],
 "metadata": {
  "kernelspec": {
   "display_name": "Python 3 (ipykernel)",
   "language": "python",
   "name": "python3"
  },
  "language_info": {
   "codemirror_mode": {
    "name": "ipython",
    "version": 3
   },
   "file_extension": ".py",
   "mimetype": "text/x-python",
   "name": "python",
   "nbconvert_exporter": "python",
   "pygments_lexer": "ipython3",
   "version": "3.13.3"
  }
 },
 "nbformat": 4,
 "nbformat_minor": 5
}
